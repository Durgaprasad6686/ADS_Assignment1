{
 "cells": [
  {
   "cell_type": "code",
   "execution_count": null,
   "id": "bd00de3d",
   "metadata": {},
   "outputs": [],
   "source": [
    "# Importing libraries\n",
    "import pandas as pd\n",
    "import numpy as np\n",
    "import matplotlib.pyplot as plt\n",
    "import seaborn as sns"
   ]
  },
  {
   "cell_type": "code",
   "execution_count": null,
   "id": "f7dc33b1",
   "metadata": {},
   "outputs": [],
   "source": [
    "# Load the dataset from the uploaded CSV file\n",
    "file_path = '/content/loan.csv'\n",
    "data = pd.read_csv(file_path)"
   ]
  },
  {
   "cell_type": "code",
   "execution_count": null,
   "id": "c3363b7d",
   "metadata": {},
   "outputs": [],
   "source": [
    "# Display the first few rows of the dataset\n",
    "print(\"First few rows of the dataset:\")\n",
    "print(data.head())"
   ]
  },
  {
   "cell_type": "code",
   "execution_count": null,
   "id": "b7f6efdf",
   "metadata": {},
   "outputs": [],
   "source": [
    "# Display basic information\n",
    "print(\"\\nDataset Information:\")\n",
    "print(data.info())"
   ]
  },
  {
   "cell_type": "code",
   "execution_count": null,
   "id": "9f1afaab",
   "metadata": {},
   "outputs": [],
   "source": [
    "# Checking null values\n",
    "data.isna().sum()"
   ]
  },
  {
   "cell_type": "code",
   "execution_count": null,
   "id": "11740a26",
   "metadata": {},
   "outputs": [],
   "source": [
    "# Display descriptive statistics\n",
    "print(\"\\nDescriptive Statistics:\")\n",
    "print(data.describe())"
   ]
  },
  {
   "cell_type": "code",
   "execution_count": null,
   "id": "8f804ac9",
   "metadata": {},
   "outputs": [],
   "source": [
    "numeric_data = data.select_dtypes(include=['int64', 'float64'])"
   ]
  },
  {
   "cell_type": "code",
   "execution_count": null,
   "id": "8f114307",
   "metadata": {},
   "outputs": [],
   "source": [
    "# Histogram for the 'Income' column\n",
    "def plot_income_histogram():\n",
    "    plt.figure(figsize=(6, 4))\n",
    "    plt.hist(data['income'], bins=10, color='skyblue', edgecolor='black')\n",
    "    plt.title('Income Distribution')\n",
    "    plt.xlabel('Income')\n",
    "    plt.ylabel('Frequency')\n",
    "    plt.grid(axis='y', alpha=0.75)\n",
    "    plt.show()\n",
    "\n",
    "plot_income_histogram()"
   ]
  },
  {
   "cell_type": "code",
   "execution_count": null,
   "id": "612b4fe7",
   "metadata": {},
   "outputs": [],
   "source": [
    "# Scatter plot for 'Age' vs. 'Credit Score'\n",
    "def plot_age_credit_score_scatter():\n",
    "    plt.figure(figsize=(6, 4))\n",
    "    plt.scatter(data['age'], data['credit_score'], color='green', alpha=0.6)\n",
    "    plt.title('Age vs. Credit Score')\n",
    "    plt.xlabel('Age')\n",
    "    plt.ylabel('Credit Score')\n",
    "    plt.grid(True, linestyle='--', alpha=0.5)\n",
    "    plt.show()\n",
    "\n",
    "plot_age_credit_score_scatter()"
   ]
  },
  {
   "cell_type": "code",
   "execution_count": null,
   "id": "9e314de0",
   "metadata": {},
   "outputs": [],
   "source": [
    "def plot_income_credit_score_boxplot():\n",
    "    plt.figure(figsize=(12, 6))\n",
    "\n",
    "    # Box plot for income\n",
    "    plt.subplot(1, 2, 1)\n",
    "    sns.boxplot(x='loan_status', y='income', data=data, palette='Set2')\n",
    "    plt.title('Income by Loan Status')\n",
    "    plt.xlabel('Loan Status')\n",
    "    plt.ylabel('Income')\n",
    "\n",
    "    # Box plot for credit score\n",
    "    plt.subplot(1, 2, 2)\n",
    "    sns.boxplot(x='loan_status', y='credit_score', data=data, palette='Set2')\n",
    "    plt.title('Credit Score by Loan Status')\n",
    "    plt.xlabel('Loan Status')\n",
    "    plt.ylabel('Credit Score')\n",
    "\n",
    "    plt.tight_layout()\n",
    "    plt.show()\n",
    "\n",
    "plot_income_credit_score_boxplot()"
   ]
  },
  {
   "cell_type": "code",
   "execution_count": null,
   "id": "4818d877",
   "metadata": {},
   "outputs": [],
   "source": [
    "# Additional statistics using pandas describe() and corr()\n",
    "print(\"\\nPandas Describe:\")\n",
    "print(data.describe())\n",
    "\n",
    "# Correlation matrix\n",
    "correlation_matrix = numeric_data.corr()\n",
    "# Heatmap of the correlation matrix\n",
    "def plot_correlation_heatmap():\n",
    "    plt.figure(figsize=(8, 6))\n",
    "    sns.heatmap(correlation_matrix, annot=True, fmt='.2f', cmap='coolwarm', linewidths=0.5)\n",
    "    plt.title('Pandas Correlation Matrix', fontsize=16)\n",
    "    plt.xticks(rotation=45)\n",
    "    plt.yticks(rotation=45)\n",
    "    plt.show()\n",
    "\n",
    "plot_correlation_heatmap()"
   ]
  }
 ],
 "metadata": {
  "kernelspec": {
   "display_name": "Python 3 (ipykernel)",
   "language": "python",
   "name": "python3"
  },
  "language_info": {
   "codemirror_mode": {
    "name": "ipython",
    "version": 3
   },
   "file_extension": ".py",
   "mimetype": "text/x-python",
   "name": "python",
   "nbconvert_exporter": "python",
   "pygments_lexer": "ipython3",
   "version": "3.9.13"
  }
 },
 "nbformat": 4,
 "nbformat_minor": 5
}
